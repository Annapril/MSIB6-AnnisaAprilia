{
  "nbformat": 4,
  "nbformat_minor": 0,
  "metadata": {
    "colab": {
      "provenance": []
    },
    "kernelspec": {
      "name": "python3",
      "display_name": "Python 3"
    },
    "language_info": {
      "name": "python"
    }
  },
  "cells": [
    {
      "cell_type": "markdown",
      "source": [
        "#Python Asyncronous 1 ⭐"
      ],
      "metadata": {
        "id": "ujMNtWG5meS1"
      }
    },
    {
      "cell_type": "markdown",
      "source": [
        "##A. Create a python syntax based on the instructions below!"
      ],
      "metadata": {
        "id": "Uvl5FInzOP_r"
      }
    },
    {
      "cell_type": "markdown",
      "source": [
        "1. Instruction:<br>\n",
        "Create a variable list_sample in the form of a \"list\" with 10 elements! Return list_sample!\n"
      ],
      "metadata": {
        "id": "ZhFqwgxre-LR"
      }
    },
    {
      "cell_type": "code",
      "source": [
        "list_sample = [20,43,50,34,20,42,90,53,76,84]\n",
        "\n",
        "print(list_sample) #menampilkan value dari list_sample"
      ],
      "metadata": {
        "id": "OHPrV_cHfAuA",
        "colab": {
          "base_uri": "https://localhost:8080/"
        },
        "outputId": "deaaa2fe-1525-4a06-a196-b5b7451c495f"
      },
      "execution_count": null,
      "outputs": [
        {
          "output_type": "stream",
          "name": "stdout",
          "text": [
            "[20, 43, 50, 34, 20, 42, 90, 53, 76, 84]\n"
          ]
        }
      ]
    },
    {
      "cell_type": "markdown",
      "source": [
        "2. Instruction: <br>\n",
        "Return the second element from list_sample!\n"
      ],
      "metadata": {
        "id": "o4XHrfWefBNu"
      }
    },
    {
      "cell_type": "code",
      "source": [
        "print(list_sample[1]) #menampilkan elemen kedua dari list (index ke-1)"
      ],
      "metadata": {
        "id": "Vi0LaAAIfDgd",
        "colab": {
          "base_uri": "https://localhost:8080/"
        },
        "outputId": "5684f848-3012-4b84-e320-65c38eb2de76"
      },
      "execution_count": null,
      "outputs": [
        {
          "output_type": "stream",
          "name": "stdout",
          "text": [
            "43\n"
          ]
        }
      ]
    },
    {
      "cell_type": "markdown",
      "source": [
        "3. Instruction:<br>\n",
        "Add a new element in the form of a list with 5 elements in the sixth position! Return list_sample!\n"
      ],
      "metadata": {
        "id": "WgCBJz-vfD0N"
      }
    },
    {
      "cell_type": "code",
      "source": [
        "list_sample.insert(5, [24,53,75,13,40]) #menambahkan list baru di posisi ke 6 (index ke-5)\n",
        "\n",
        "print(list_sample)"
      ],
      "metadata": {
        "id": "fOi3yR4ufGJS",
        "colab": {
          "base_uri": "https://localhost:8080/"
        },
        "outputId": "f3b41f19-ae84-4869-861d-89bae838d7cd"
      },
      "execution_count": null,
      "outputs": [
        {
          "output_type": "stream",
          "name": "stdout",
          "text": [
            "[20, 43, 50, 34, 20, [24, 53, 75, 13, 40], 42, 90, 53, 76, 84]\n"
          ]
        }
      ]
    },
    {
      "cell_type": "markdown",
      "source": [
        "4. Instruction:<br>\n",
        "Return the 4th element of the list created in instruction number 3!\n"
      ],
      "metadata": {
        "id": "i5H7mmuGfGjq"
      }
    },
    {
      "cell_type": "code",
      "source": [
        "print(list_sample[5][3]) #menampilkan value ke 4 dari list baru (index ke-3)"
      ],
      "metadata": {
        "id": "ZsUAcm_0fIrY",
        "colab": {
          "base_uri": "https://localhost:8080/"
        },
        "outputId": "206a4a51-038e-457c-9579-2310dbdec1dd"
      },
      "execution_count": null,
      "outputs": [
        {
          "output_type": "stream",
          "name": "stdout",
          "text": [
            "13\n"
          ]
        }
      ]
    },
    {
      "cell_type": "markdown",
      "source": [
        "5. Instruction:<br>\n",
        "Update the 10th element of list_sample with 'Practice'. Return list_sample!\n"
      ],
      "metadata": {
        "id": "aqYnHpgXfJBj"
      }
    },
    {
      "cell_type": "code",
      "source": [
        "list_sample[9] = 'Practice' #mengganti elemen ke 10 (index ke-9)\n",
        "\n",
        "print(list_sample)"
      ],
      "metadata": {
        "id": "AM_8Q2dAfLM2",
        "colab": {
          "base_uri": "https://localhost:8080/"
        },
        "outputId": "1182102d-005f-472c-fc80-b4b6dc05a6ac"
      },
      "execution_count": null,
      "outputs": [
        {
          "output_type": "stream",
          "name": "stdout",
          "text": [
            "[20, 43, 50, 34, 20, [24, 53, 75, 13, 40], 42, 90, 53, 'Practice', 84]\n"
          ]
        }
      ]
    },
    {
      "cell_type": "markdown",
      "source": [
        "6. Instruction:<br>\n",
        "Return the 10th output element that has been changed!\n"
      ],
      "metadata": {
        "id": "hWQBMh32fLdn"
      }
    },
    {
      "cell_type": "code",
      "source": [
        "print(list_sample[9]) #menampilkan elemen ke 10 yang sudah diganti"
      ],
      "metadata": {
        "id": "x3b44zOyfNxj",
        "colab": {
          "base_uri": "https://localhost:8080/"
        },
        "outputId": "ffde2db7-360a-430d-8fbb-49df647f4b5b"
      },
      "execution_count": null,
      "outputs": [
        {
          "output_type": "stream",
          "name": "stdout",
          "text": [
            "Practice\n"
          ]
        }
      ]
    },
    {
      "cell_type": "markdown",
      "source": [
        "7. Instruction:<br>\n",
        "Return the count of one of the elements in list_sample!\n"
      ],
      "metadata": {
        "id": "EGj8ZRpgfOTT"
      }
    },
    {
      "cell_type": "code",
      "source": [
        "print(list_sample.count(20)) #menghitung jumlah nilai 20 yang ada pada list"
      ],
      "metadata": {
        "id": "BFAmE5sofRFY",
        "colab": {
          "base_uri": "https://localhost:8080/"
        },
        "outputId": "fedcb69d-9763-4d25-8921-04edb84e816d"
      },
      "execution_count": null,
      "outputs": [
        {
          "output_type": "stream",
          "name": "stdout",
          "text": [
            "2\n"
          ]
        }
      ]
    },
    {
      "cell_type": "markdown",
      "source": [
        "8. Instruction:<br>\n",
        "Return the number of elements in the list_sample!\n"
      ],
      "metadata": {
        "id": "yUwF9mkWfRl3"
      }
    },
    {
      "cell_type": "code",
      "source": [
        "print(len(list_sample)) #menghitung banyaknya value pada list"
      ],
      "metadata": {
        "id": "FFBW7gqNfTv1",
        "colab": {
          "base_uri": "https://localhost:8080/"
        },
        "outputId": "ea606f58-e8a3-49ea-9d64-b2db4b930660"
      },
      "execution_count": null,
      "outputs": [
        {
          "output_type": "stream",
          "name": "stdout",
          "text": [
            "11\n"
          ]
        }
      ]
    },
    {
      "cell_type": "markdown",
      "source": [
        "9. Instruction:<br>\n",
        "Remove elements in the form of lists from list_sample! Return list_sample!\n"
      ],
      "metadata": {
        "id": "QYAYnblVfUL0"
      }
    },
    {
      "cell_type": "code",
      "source": [
        "list_sample.remove(20) #menghilangkan value dengan angka 20 pada list\n",
        "\n",
        "print(list_sample)"
      ],
      "metadata": {
        "id": "afTN0X24fWMb",
        "colab": {
          "base_uri": "https://localhost:8080/"
        },
        "outputId": "230a9fa4-964a-4232-9556-b97d77921c6e"
      },
      "execution_count": null,
      "outputs": [
        {
          "output_type": "stream",
          "name": "stdout",
          "text": [
            "[43, 50, 34, 20, [24, 53, 75, 13, 40], 42, 90, 53, 'Practice', 84]\n"
          ]
        }
      ]
    },
    {
      "cell_type": "markdown",
      "source": [
        "10. Instruction:<br>\n",
        "Remove all elements from the list_sample! Return list_sample!"
      ],
      "metadata": {
        "id": "US0fo3_jfWb7"
      }
    },
    {
      "cell_type": "code",
      "source": [
        "list_sample.clear() #menghapus semua elemen di list\n",
        "\n",
        "print(list_sample)"
      ],
      "metadata": {
        "id": "AgicceMwfXSy",
        "colab": {
          "base_uri": "https://localhost:8080/"
        },
        "outputId": "fa926a90-cfea-42ed-ca08-9f99a53aa347"
      },
      "execution_count": null,
      "outputs": [
        {
          "output_type": "stream",
          "name": "stdout",
          "text": [
            "[]\n"
          ]
        }
      ]
    },
    {
      "cell_type": "markdown",
      "source": [
        "##B. Make a simple program about mathematical calculations!"
      ],
      "metadata": {
        "id": "WK4KxUGqm75X"
      }
    },
    {
      "cell_type": "markdown",
      "source": [
        "###1st Example"
      ],
      "metadata": {
        "id": "EWngJ2Ya5TI0"
      }
    },
    {
      "cell_type": "code",
      "source": [
        "\n",
        "#meminta input dari user\n",
        "kilometer = float(input(\"Masukan bilangan yang ingin di konversi: \"))\n",
        "\n",
        "#konversi kilometer ke meter\n",
        "meter = kilometer * 1000\n",
        "\n",
        "#menampilkan hasil konversi\n",
        "print(f\"{kilometer} kilometer = {meter} meter\")"
      ],
      "metadata": {
        "id": "mE619GrXnF4x"
      },
      "execution_count": null,
      "outputs": []
    },
    {
      "cell_type": "markdown",
      "source": [
        "###2nd Example"
      ],
      "metadata": {
        "id": "veizWpzo5Wkw"
      }
    },
    {
      "cell_type": "code",
      "source": [
        "# Menginput Alas dan Tinggi Segitiga\n",
        "alas = float(input('Tulis Alas Segitiga: '))\n",
        "tinggi = float(input('Tulis Tinggi Segitiga: '))\n",
        "\n",
        "# Hitung Luas Segitiga\n",
        "luas = (alas * tinggi) / 2\n",
        "\n",
        "#Menampilkan Hasil Perhitungan\n",
        "print(f'Luas Segitiga tersebut adalah {luas}')"
      ],
      "metadata": {
        "id": "B7LRJNE85Y3B"
      },
      "execution_count": null,
      "outputs": []
    },
    {
      "cell_type": "markdown",
      "source": [
        "###Your Turn! 🔥"
      ],
      "metadata": {
        "id": "Owk-qb7I6hVj"
      }
    },
    {
      "cell_type": "code",
      "source": [
        "#menghitung volume tabung\n",
        "\n",
        "#masukkan nilai jari-jari dan tinggi\n",
        "jari_jari = float(input(\"Masukkan jari-jari tabung: \"))\n",
        "tinggi = float(input(\"Masukkan tinggi tabung: \"))\n",
        "\n",
        "#hitung volume tabung\n",
        "volume = 3.14 * jari_jari**2 * tinggi # nilai pi 3.14 bisa juga diganti dengan math.pi (harus import library math)\n",
        "\n",
        "#cetak hasil volume\n",
        "print(f\"Volume tabung dengan jari-jari {jari_jari} dan tinggi {tinggi} adalah {volume:.2f}\")"
      ],
      "metadata": {
        "id": "IMbnUlRb6reI",
        "colab": {
          "base_uri": "https://localhost:8080/"
        },
        "outputId": "ff48a14c-181e-423b-de1b-7c135cf353d1"
      },
      "execution_count": null,
      "outputs": [
        {
          "output_type": "stream",
          "name": "stdout",
          "text": [
            "Masukkan jari-jari tabung: 7\n",
            "Masukkan tinggi tabung: 14\n",
            "Volume tabung dengan jari-jari 7.0 dan tinggi 14.0 adalah 2154.04\n"
          ]
        }
      ]
    }
  ]
}